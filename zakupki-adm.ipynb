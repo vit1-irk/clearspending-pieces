{
 "cells": [
  {
   "cell_type": "markdown",
   "metadata": {},
   "source": [
    "## Использование API clearspending\n",
    "\n",
    "Подробнее тут: <https://github.com/datacoon/clearspending-examples/wiki>\n",
    "\n",
    "Ещё презентация про API: <https://issuu.com/teplitsa_st/docs/api_pres>"
   ]
  },
  {
   "cell_type": "code",
   "execution_count": 1,
   "metadata": {
    "scrolled": true
   },
   "outputs": [],
   "source": [
    "import datetime\n",
    "import math\n",
    "from dateutil import parser\n",
    "import pandas as pd\n",
    "import ipywidgets as widgets\n",
    "import csapi\n",
    "\n",
    "pd.set_option(\"max_colwidth\", None)"
   ]
  },
  {
   "cell_type": "code",
   "execution_count": 2,
   "metadata": {},
   "outputs": [],
   "source": [
    "inn_to_search = [\n",
    "    (\"3808131271\", \"АДМИНИСТРАЦИЯ ГОРОДА ИРКУТСКА\"),\n",
    "    (\"3808224350\", \"ДУМА ГОРОДА ИРКУТСКА\"),\n",
    "    (\"3808171394\", \"АППАРАТ ГУБЕРНАТОРА ИРКУТСКОЙ ОБЛАСТИ И ПРАВИТЕЛЬСТВА ИРКУТСКОЙ ОБЛАСТИ\"),\n",
    "    (\"3800000608\", \"ЗАКОНОДАТЕЛЬНОЕ СОБРАНИЕ ИРКУТСКОЙ ОБЛАСТИ\"),\n",
    "    (\"3808131923\", \"МИНИСТЕРСТВО ПО РЕГУЛИРОВАНИЮ КОНТРАКТНОЙ СИСТЕМЫ В СФЕРЕ ЗАКУПОК ИРКУТСКОЙ ОБЛАСТИ\"),\n",
    "    (\"3808193750\", \"КОМИТЕТ ПО ЭКОНОМИКЕ И СТРАТЕГИЧЕСКОМУ ПЛАНИРОВАНИЮ АДМИНИСТРАЦИИ ГОРОДА ИРКУТСКА\"),\n",
    "    (\"3801131762\", \"АДМИНИСТРАЦИЯ АНГАРСКОГО ГОРОДСКОГО ОКРУГА\"),\n",
    "    (\"3808172327\", \"МИНИСТЕРСТВО ЗДРАВООХРАНЕНИЯ ИРКУТСКОЙ ОБЛАСТИ\"),\n",
    "    (\"3811439958\", \"УПРАВЛЕНИЕ ФЕДЕРАЛЬНОЙ СЛУЖБЫ ВОЙСК НАЦИОНАЛЬНОЙ ГВАРДИИ РОССИЙСКОЙ ФЕДЕРАЦИИ ПО ИРКУТСКОЙ ОБЛАСТИ\"),\n",
    "    (\"0326023564\", \"МУНИЦИПАЛЬНОЕ УЧРЕЖДЕНИЕ \\\"УПРАВЛЕНИЕ ПО МУНИЦИПАЛЬНЫМ ЗАКУПКАМ АДМИНИСТРАЦИИ Г.УЛАН-УДЭ\\\"\"),\n",
    "    (\"0323825390\", \"РЕСПУБЛИКАНСКОЕ АГЕНТСТВО ПО ГОСУДАРСТВЕННЫМ ЗАКУПКАМ\")\n",
    "]\n",
    "\n",
    "def get_contracts(inn):\n",
    "    url_tpl = \"http://openapi.clearspending.ru/restapi/v3/contracts/search/?customerinn={0}&daterange=01.02.2021-{1}\"\n",
    "    now = datetime.datetime.now().strftime(\"%d.%m.%Y\")\n",
    "    url = url_tpl.format(inn, now)\n",
    "    cs = csapi.query_clearspending(url)\n",
    "    return cs\n",
    "    \n",
    "def get_contracts_table(inn):\n",
    "    url_tpl = \"http://openapi.clearspending.ru/restapi/v3/contracts/search/?customerinn={0}&daterange=01.02.2021-{1}\"\n",
    "    now = datetime.datetime.now().strftime(\"%d.%m.%Y\")\n",
    "\n",
    "    contracts = []\n",
    "    url = url_tpl.format(inn, now)\n",
    "    cs = csapi.query_clearspending(url)\n",
    "    contracts.extend(cs)\n",
    "    pd_ds = csapi.pandas_ds(contracts)\n",
    "    display(pd_ds)"
   ]
  },
  {
   "cell_type": "code",
   "execution_count": 3,
   "metadata": {},
   "outputs": [],
   "source": [
    "#inn = \"3808193750\"\n",
    "#now = datetime.datetime.now().strftime(\"%d.%m.%Y\")\n",
    "#url_tpl = \"http://openapi.clearspending.ru/restapi/v3/contracts/search/?customerinn={0}&daterange=01.02.2021-{1}\"\n",
    "#url = url_tpl.format(inn, now)\n",
    "\n",
    "#print(url, requests.get(url))"
   ]
  },
  {
   "cell_type": "code",
   "execution_count": 4,
   "metadata": {},
   "outputs": [
    {
     "data": {
      "application/vnd.jupyter.widget-view+json": {
       "model_id": "5015e73877b3465a8a141cf34b9ffc2a",
       "version_major": 2,
       "version_minor": 0
      },
      "text/plain": [
       "AppLayout(children=(Select(layout=Layout(grid_area='left-sidebar'), options=('АДМИНИСТРАЦИЯ ГОРОДА ИРКУТСКА', …"
      ]
     },
     "metadata": {},
     "output_type": "display_data"
    }
   ],
   "source": [
    "inns = [x[0] for x in inn_to_search]\n",
    "titles = [x[1] for x in inn_to_search]\n",
    "select_inn = widgets.Select(options=titles, rows=20)\n",
    "output1 = widgets.Output()\n",
    "\n",
    "def see_departments(inn):\n",
    "    with output1:\n",
    "        output1.clear_output()\n",
    "        print(\"ИНН организации\", inn)\n",
    "        get_contracts_table(inn)\n",
    "\n",
    "layout = widgets.AppLayout(left_sidebar=select_inn,\n",
    "          center=output1)\n",
    "\n",
    "select_inn.observe(lambda x: see_departments(inns[x.new]), names='index')\n",
    "\n",
    "display(layout)\n",
    "see_departments(inns[0])"
   ]
  }
 ],
 "metadata": {
  "kernelspec": {
   "display_name": "Python 3",
   "language": "python",
   "name": "python3"
  },
  "language_info": {
   "codemirror_mode": {
    "name": "ipython",
    "version": 3
   },
   "file_extension": ".py",
   "mimetype": "text/x-python",
   "name": "python",
   "nbconvert_exporter": "python",
   "pygments_lexer": "ipython3",
   "version": "3.9.1+"
  }
 },
 "nbformat": 4,
 "nbformat_minor": 4
}
